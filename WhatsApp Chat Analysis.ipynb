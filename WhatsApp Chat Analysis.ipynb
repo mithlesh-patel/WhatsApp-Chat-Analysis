{
 "cells": [
  {
   "cell_type": "code",
   "execution_count": null,
   "metadata": {
    "collapsed": true
   },
   "outputs": [],
   "source": [
    "import pandas as pd\n",
    "import numpy as np\n",
    "import codecs\n",
    "import matplotlib.pyplot as plt\n",
    "%matplotlib inline"
   ]
  },
  {
   "cell_type": "code",
   "execution_count": null,
   "metadata": {
    "collapsed": true
   },
   "outputs": [],
   "source": [
    "location_of_file ='/Users/mithleshpatel/Data_File/'\n",
    "\n",
    "dataframe_to_store_names_and_messages = pd.DataFrame(columns=['Name','Number of Messages Sent'])\n",
    "\n",
    "full_content_of_chat = [x.rstrip() for x in codecs.open(location_of_file+\"chat.txt\",'r','UTF-8')]\n",
    "dates=[]\n",
    "for line in full_content_of_chat:\n",
    "    \n",
    "    linesplit = line.split(']')\n",
    " \n",
    "    if len(linesplit)==2:\n",
    "        Name_and_Message = linesplit[1].split(':',1)\n",
    "        if len(Name_and_Message)==2:\n",
    "            \n",
    "            dataframe_to_store_names_and_messages = dataframe_to_store_names_and_messages.append({'Name': Name_and_Message[0].encode('utf-8').strip()\n",
    "                            , 'Number of Messages Sent': Name_and_Message[1].encode('utf-8').strip()}, ignore_index=True)\n",
    "        \n",
    "messages_per_users = dataframe_to_store_names_and_messages.groupby(['Name']).count()\n",
    "most_active_users = messages_per_users.sort_values(['Number of Messages Sent'],ascending=False).head(10)\n",
    "\n",
    "\n",
    "\n",
    "least_active_users = messages_per_users.sort_values(['Number of Messages Sent'],ascending=True).head(10)\n",
    "\n",
    "\n",
    "most_and_least_active_users = pd.concat([most_active_users,least_active_users])\n",
    "\n",
    "most_and_least_active_users.plot(kind='bar',figsize=(12,4),\n",
    "                                 color=[np.where(most_and_least_active_users[\"Number of Messages Sent\"]>\n",
    "                                                 most_and_least_active_users[\"Number of Messages Sent\"].median(), \n",
    "                                                 'g', 'r')])\n",
    "plt.title('User activity in your Whatsapp group !')"
   ]
  }
 ],
 "metadata": {
  "kernelspec": {
   "display_name": "Python 3",
   "language": "python",
   "name": "python3"
  },
  "language_info": {
   "codemirror_mode": {
    "name": "ipython",
    "version": 3
   },
   "file_extension": ".py",
   "mimetype": "text/x-python",
   "name": "python",
   "nbconvert_exporter": "python",
   "pygments_lexer": "ipython3",
   "version": "3.7.1"
  }
 },
 "nbformat": 4,
 "nbformat_minor": 2
}
